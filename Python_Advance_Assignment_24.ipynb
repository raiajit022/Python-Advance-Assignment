{
 "cells": [
  {
   "cell_type": "markdown",
   "metadata": {},
   "source": [
    "# Q1. Is it permissible to use several import statements to import the same module? What would the goal be? Can you think of a situation where it would be beneficial?"
   ]
  },
  {
   "cell_type": "code",
   "execution_count": 2,
   "metadata": {},
   "outputs": [],
   "source": [
    "# Ans : Yes we can use more than one import statement to import the same module more than once.\n",
    "#       This is com einto action when support we want to import some other function or class from the base \n",
    "#       class of any module for example.\n",
    "#       from sklearn.preprocessing import LabelEncoder\n",
    "#       from sklearn.linear_model import LinearRegression"
   ]
  },
  {
   "cell_type": "code",
   "execution_count": null,
   "metadata": {},
   "outputs": [],
   "source": []
  },
  {
   "cell_type": "markdown",
   "metadata": {},
   "source": [
    "# Q2. What are some of a module's characteristics? (Name at least one.)\n"
   ]
  },
  {
   "cell_type": "code",
   "execution_count": 3,
   "metadata": {},
   "outputs": [],
   "source": [
    "\n",
    "# Ans : name : It returns the name of the module. doc : It denotes the documentation string line written in a module \n",
    "#       code. file : It holds the name and path of the module file from which it is loaded . dict : It return a \n",
    "#       dictionary object of module attributes, functions and other definitions and their respective values."
   ]
  },
  {
   "cell_type": "code",
   "execution_count": null,
   "metadata": {},
   "outputs": [],
   "source": []
  },
  {
   "cell_type": "markdown",
   "metadata": {},
   "source": [
    "# Q3. Circular importing, such as when two modules import each other, can lead to dependencies and bugs that aren't visible. How can you go about creating a program that avoids mutual importing?"
   ]
  },
  {
   "cell_type": "code",
   "execution_count": 4,
   "metadata": {},
   "outputs": [],
   "source": [
    "# Ans : Circular importing means importing the two modules in each other. If suppose we are wokring in MOD1.py file \n",
    "#       and it is importing some function say F2() from some other module say MOD2.PY file or we can do vice-versa. \n",
    "#       What will happen is: This will give an import error. This is because when we import F2() function from module \n",
    "#       MOD2.py, then this will execute MOD2.py file. And in MOD2.py file there is an another statement of importing\n",
    "#       MOD1.py module. This will result in endless loop. To avoid this error just do one thing- We can use if \n",
    "#       name == 'main'.In the function, you can't directly refer to the function in the program. The addition of \n",
    "#       this sentence avoids the endless loop of the program"
   ]
  },
  {
   "cell_type": "code",
   "execution_count": null,
   "metadata": {},
   "outputs": [],
   "source": []
  },
  {
   "cell_type": "markdown",
   "metadata": {},
   "source": [
    "# Q4. Why is _ all _ in Python?\n"
   ]
  },
  {
   "cell_type": "code",
   "execution_count": 5,
   "metadata": {},
   "outputs": [],
   "source": [
    "# Ans : It specifies all the modules present in the particular library and those can be called when we use import *\n"
   ]
  },
  {
   "cell_type": "code",
   "execution_count": null,
   "metadata": {},
   "outputs": [],
   "source": []
  },
  {
   "cell_type": "markdown",
   "metadata": {},
   "source": [
    "# Q5. In what situation is it useful to refer to the _ name attribute or the string ' main _'?\n"
   ]
  },
  {
   "cell_type": "code",
   "execution_count": 6,
   "metadata": {},
   "outputs": [],
   "source": [
    "# Ans : During the time of execution of the code if we want to refer the module in which we are working on then we \n",
    "#       uses name attribute. In that case it will return the module in which we are working on. Suppose if that moudle\n",
    "#       is being imported from some other module then name will have the name of that moudle from where the current \n",
    "#       module has been imported. The current module in which we are working is refer to the string '_ main _'."
   ]
  },
  {
   "cell_type": "code",
   "execution_count": null,
   "metadata": {},
   "outputs": [],
   "source": []
  },
  {
   "cell_type": "markdown",
   "metadata": {},
   "source": [
    "# Q6. What are some of the benefits of attaching a program counter to the RPN interpreter application, which interprets an RPN script line by line?"
   ]
  },
  {
   "cell_type": "code",
   "execution_count": 7,
   "metadata": {},
   "outputs": [],
   "source": [
    "# Ans : RPN saves time and keystrokes. You avoid using and keeping track of parentheses while doing calculations. \n",
    "#       The process is similar to the way you learned math on paper. You can see the intermediary results as you \n",
    "#       perform your computations rather than just the answer at the end."
   ]
  },
  {
   "cell_type": "code",
   "execution_count": null,
   "metadata": {},
   "outputs": [],
   "source": []
  },
  {
   "cell_type": "markdown",
   "metadata": {},
   "source": [
    "# Q7. What are the minimum expressions or statements (or both) that you'd need to render a basic programming language like RPN primitive but complete— that is, capable of carrying out any computerised task theoretically possible?"
   ]
  },
  {
   "cell_type": "code",
   "execution_count": 8,
   "metadata": {},
   "outputs": [],
   "source": [
    "# Ans : Notations  : +-/*\n",
    "#       These are the basic notations we require to carry out a computerised task , like RPN Primitive.\n",
    "#       We also need a particular data structure for storing elements from a statements except operators"
   ]
  },
  {
   "cell_type": "code",
   "execution_count": null,
   "metadata": {},
   "outputs": [],
   "source": []
  }
 ],
 "metadata": {
  "kernelspec": {
   "display_name": "Python 3",
   "language": "python",
   "name": "python3"
  },
  "language_info": {
   "codemirror_mode": {
    "name": "ipython",
    "version": 3
   },
   "file_extension": ".py",
   "mimetype": "text/x-python",
   "name": "python",
   "nbconvert_exporter": "python",
   "pygments_lexer": "ipython3",
   "version": "3.7.6"
  },
  "toc": {
   "base_numbering": 1,
   "nav_menu": {},
   "number_sections": true,
   "sideBar": true,
   "skip_h1_title": false,
   "title_cell": "Table of Contents",
   "title_sidebar": "Contents",
   "toc_cell": false,
   "toc_position": {},
   "toc_section_display": true,
   "toc_window_display": false
  },
  "varInspector": {
   "cols": {
    "lenName": 16,
    "lenType": 16,
    "lenVar": 40
   },
   "kernels_config": {
    "python": {
     "delete_cmd_postfix": "",
     "delete_cmd_prefix": "del ",
     "library": "var_list.py",
     "varRefreshCmd": "print(var_dic_list())"
    },
    "r": {
     "delete_cmd_postfix": ") ",
     "delete_cmd_prefix": "rm(",
     "library": "var_list.r",
     "varRefreshCmd": "cat(var_dic_list()) "
    }
   },
   "types_to_exclude": [
    "module",
    "function",
    "builtin_function_or_method",
    "instance",
    "_Feature"
   ],
   "window_display": false
  }
 },
 "nbformat": 4,
 "nbformat_minor": 4
}
