{
 "cells": [
  {
   "cell_type": "markdown",
   "metadata": {},
   "source": [
    "# Q1. What is the concept of a metaclass?\n",
    "\n",
    "In python everything is associated with type. In other programming languages, int, str, array are data type. But, in python, they are objects of the class int, str, list, dict. We can create user defined type by creating a class and then object of that class.\n",
    "\n",
    "A Class is also an object, and just like any other object it’s a instance of something called Metaclass. A special class type creates these Class object. The type class is default metaclass which is responsible for making classes."
   ]
  },
  {
   "cell_type": "code",
   "execution_count": null,
   "metadata": {},
   "outputs": [],
   "source": []
  },
  {
   "cell_type": "markdown",
   "metadata": {},
   "source": [
    "# Q2. What is the best way to declare a class's metaclass?\n",
    "When defining a class and no metaclass is defined the default type metaclass will be used. If a metaclass is given and it is not an instance of type(), then it is used directly as the metaclass.\n"
   ]
  },
  {
   "cell_type": "code",
   "execution_count": 1,
   "metadata": {},
   "outputs": [
    {
     "name": "stdout",
     "output_type": "stream",
     "text": [
      "<class 'type'>\n",
      "<class '__main__.A'>\n",
      "<class '__main__.A'>\n"
     ]
    }
   ],
   "source": [
    "class A(type):\n",
    "    pass\n",
    "\n",
    "class B(metaclass=A):  # for class B, class A is a metaclass\n",
    "    pass\n",
    "class C(B):\n",
    "    pass\n",
    "\n",
    "print(type(A))\n",
    "print(type(B))\n",
    "print(type(C))"
   ]
  },
  {
   "cell_type": "code",
   "execution_count": null,
   "metadata": {},
   "outputs": [],
   "source": []
  },
  {
   "cell_type": "markdown",
   "metadata": {},
   "source": [
    "# Q3. How do class decorators overlap with metaclasses for handling classes?\n",
    "\n",
    "Both decorators and metaclass have some common things. When we want to aplly some common functionality to attributes of the class instances, both can be used. There are some problems which can be solved by decorators as well as by metaclasses. But there are a few problems that can only be solved by metaclasses. Use of metaclass affects its children while the decorator affects only the current class."
   ]
  },
  {
   "cell_type": "code",
   "execution_count": null,
   "metadata": {},
   "outputs": [],
   "source": []
  },
  {
   "cell_type": "markdown",
   "metadata": {},
   "source": [
    "# Q4. How do class decorators overlap with metaclasses for handling instances?\n",
    "\n",
    "Both decorators and metaclass have some common things. When we want to aplly some common functionality to attributes of the class instances, both can be used. There are some problems which can be solved by decorators as well as by metaclasses. But there are a few problems that can only be solved by metaclasses. Use of metaclass affects its children while the decorator affects only the current class."
   ]
  },
  {
   "cell_type": "code",
   "execution_count": null,
   "metadata": {},
   "outputs": [],
   "source": []
  }
 ],
 "metadata": {
  "kernelspec": {
   "display_name": "Python 3",
   "language": "python",
   "name": "python3"
  },
  "language_info": {
   "codemirror_mode": {
    "name": "ipython",
    "version": 3
   },
   "file_extension": ".py",
   "mimetype": "text/x-python",
   "name": "python",
   "nbconvert_exporter": "python",
   "pygments_lexer": "ipython3",
   "version": "3.7.6"
  },
  "toc": {
   "base_numbering": 1,
   "nav_menu": {},
   "number_sections": true,
   "sideBar": true,
   "skip_h1_title": false,
   "title_cell": "Table of Contents",
   "title_sidebar": "Contents",
   "toc_cell": false,
   "toc_position": {},
   "toc_section_display": true,
   "toc_window_display": false
  },
  "varInspector": {
   "cols": {
    "lenName": 16,
    "lenType": 16,
    "lenVar": 40
   },
   "kernels_config": {
    "python": {
     "delete_cmd_postfix": "",
     "delete_cmd_prefix": "del ",
     "library": "var_list.py",
     "varRefreshCmd": "print(var_dic_list())"
    },
    "r": {
     "delete_cmd_postfix": ") ",
     "delete_cmd_prefix": "rm(",
     "library": "var_list.r",
     "varRefreshCmd": "cat(var_dic_list()) "
    }
   },
   "types_to_exclude": [
    "module",
    "function",
    "builtin_function_or_method",
    "instance",
    "_Feature"
   ],
   "window_display": false
  }
 },
 "nbformat": 4,
 "nbformat_minor": 4
}
